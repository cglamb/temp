{
 "cells": [
  {
   "cell_type": "code",
   "execution_count": 1,
   "id": "68225059",
   "metadata": {},
   "outputs": [],
   "source": [
    "#import libraries\n",
    "import pandas as pd\n",
    "import pulp\n",
    "from pulp import LpVariable, LpProblem, LpMaximize, LpStatus, value, LpMinimize"
   ]
  },
  {
   "cell_type": "code",
   "execution_count": 2,
   "id": "cac08451",
   "metadata": {},
   "outputs": [],
   "source": [
    "# best case scenario"
   ]
  },
  {
   "cell_type": "code",
   "execution_count": 3,
   "id": "ac389b55",
   "metadata": {},
   "outputs": [],
   "source": [
    "#establishing variables.  one start time variable for each node and 1 finish time variable\n",
    "# therefore t0 represents the time t at which actions radiaing out of node 0 began (describe product and develop market strat)\n",
    "t0 = LpVariable(\"t0\",0,None)\n",
    "t1 = LpVariable(\"t1\",0,None)\n",
    "t2 = LpVariable(\"t2\",0,None)\n",
    "t3 = LpVariable(\"t3\",0,None)\n",
    "t4 = LpVariable(\"t4\",0,None)\n",
    "t5 = LpVariable(\"t5\",0,None)\n",
    "t6 = LpVariable(\"t6\",0,None)\n",
    "t7 = LpVariable(\"t7\",0,None)\n",
    "t8 = LpVariable(\"t8\",0,None)\n",
    "t9 = LpVariable(\"t9\",0,None)\n",
    "t10 = LpVariable(\"t10\",0,None)\n",
    "t11 = LpVariable(\"t11\",0,None)\n",
    "t12 = LpVariable(\"t12\",0,None)\n",
    "t12 = LpVariable(\"t12\",0,None)\n",
    "t13 = LpVariable(\"t13\",0,None)\n",
    "t14 = LpVariable(\"t14\",0,None)\n",
    "t15 = LpVariable(\"t15\",0,None)\n",
    "z = LpVariable(\"z\",0,None)"
   ]
  },
  {
   "cell_type": "code",
   "execution_count": 4,
   "id": "5da4349c",
   "metadata": {},
   "outputs": [],
   "source": [
    "#setting up problem\n",
    "prob = LpProblem(\"problem\",LpMinimize)\n",
    "prob += z"
   ]
  },
  {
   "cell_type": "code",
   "execution_count": 5,
   "id": "31e78cf9",
   "metadata": {},
   "outputs": [],
   "source": [
    "#esablishing constrains\n",
    "prob += t1 - t0 >= 5\n",
    "prob += t2 - t0 >= 10\n",
    "prob += t3 - t1 >= 5\n",
    "prob += t4 - t2 >= 10\n",
    "prob += t4 - t3 >= 0 #dummy pathway\n",
    "prob += t6 - t1 >= 15\n",
    "prob += t7 - t6 >= 209\n",
    "prob += t8 - t6 >= 188\n",
    "prob += t9 - t7 >= 202\n",
    "prob += t9 - t8 >= 0\n",
    "prob += t10 - t9 >= 158\n",
    "prob += t11 - t10 >= 139\n",
    "prob += t12 - t9 >= 8\n",
    "prob += t13 - t11 >= 4\n",
    "prob += t13 - t12 >= 0 #dummy pathway\n",
    "prob += t14 - t13 >= 298\n",
    "prob += t14 - t4 >= 0\n",
    "prob += t15 - t13 >= 40\n",
    "prob += t15 - t1 >= 0  #dummay pathway\n",
    "prob += z - t14 >= 42\n",
    "prob += z - t15 >= 0"
   ]
  },
  {
   "cell_type": "code",
   "execution_count": 6,
   "id": "77d51ba7",
   "metadata": {},
   "outputs": [
    {
     "name": "stdout",
     "output_type": "stream",
     "text": [
      "problem:\n",
      "MINIMIZE\n",
      "1*z + 0\n",
      "SUBJECT TO\n",
      "_C1: - t0 + t1 >= 5\n",
      "\n",
      "_C2: - t0 + t2 >= 10\n",
      "\n",
      "_C3: - t1 + t3 >= 5\n",
      "\n",
      "_C4: - t2 + t4 >= 10\n",
      "\n",
      "_C5: - t3 + t4 >= 0\n",
      "\n",
      "_C6: - t1 + t6 >= 15\n",
      "\n",
      "_C7: - t6 + t7 >= 209\n",
      "\n",
      "_C8: - t6 + t8 >= 188\n",
      "\n",
      "_C9: - t7 + t9 >= 202\n",
      "\n",
      "_C10: - t8 + t9 >= 0\n",
      "\n",
      "_C11: t10 - t9 >= 158\n",
      "\n",
      "_C12: - t10 + t11 >= 139\n",
      "\n",
      "_C13: t12 - t9 >= 8\n",
      "\n",
      "_C14: - t11 + t13 >= 4\n",
      "\n",
      "_C15: - t12 + t13 >= 0\n",
      "\n",
      "_C16: - t13 + t14 >= 298\n",
      "\n",
      "_C17: t14 - t4 >= 0\n",
      "\n",
      "_C18: - t13 + t15 >= 40\n",
      "\n",
      "_C19: - t1 + t15 >= 0\n",
      "\n",
      "_C20: - t14 + z >= 42\n",
      "\n",
      "_C21: - t15 + z >= 0\n",
      "\n",
      "VARIABLES\n",
      "t0 Continuous\n",
      "t1 Continuous\n",
      "t10 Continuous\n",
      "t11 Continuous\n",
      "t12 Continuous\n",
      "t13 Continuous\n",
      "t14 Continuous\n",
      "t15 Continuous\n",
      "t2 Continuous\n",
      "t3 Continuous\n",
      "t4 Continuous\n",
      "t6 Continuous\n",
      "t7 Continuous\n",
      "t8 Continuous\n",
      "t9 Continuous\n",
      "z Continuous\n",
      "\n"
     ]
    }
   ],
   "source": [
    "#checking to make sure the problem is setup correctly\n",
    "print(prob)"
   ]
  },
  {
   "cell_type": "code",
   "execution_count": 7,
   "id": "7fd980f6",
   "metadata": {},
   "outputs": [],
   "source": [
    "#solving\n",
    "status = prob.solve()"
   ]
  },
  {
   "cell_type": "code",
   "execution_count": 8,
   "id": "94316a21",
   "metadata": {},
   "outputs": [
    {
     "name": "stdout",
     "output_type": "stream",
     "text": [
      "t0: 0.0\n",
      "t1: 5.0\n",
      "t10: 589.0\n",
      "t11: 728.0\n",
      "t12: 439.0\n",
      "t13: 732.0\n",
      "t14: 1030.0\n",
      "t15: 772.0\n",
      "t2: 10.0\n",
      "t3: 10.0\n",
      "t4: 20.0\n",
      "t6: 20.0\n",
      "t7: 229.0\n",
      "t8: 208.0\n",
      "t9: 431.0\n",
      "z: 1072.0\n"
     ]
    }
   ],
   "source": [
    "#printing the solution\n",
    "for variable in prob.variables():\n",
    "    print(f'{variable}: {value(variable.varValue)}')"
   ]
  },
  {
   "cell_type": "markdown",
   "id": "cdaf2a22",
   "metadata": {},
   "source": [
    "critical pathway would be:\n",
    "describe product, requirement analysis, sofware design, coding, unit test, system test, package deliverables, develop pricing plan, write client proposal"
   ]
  }
 ],
 "metadata": {
  "kernelspec": {
   "display_name": "Python 3 (ipykernel)",
   "language": "python",
   "name": "python3"
  },
  "language_info": {
   "codemirror_mode": {
    "name": "ipython",
    "version": 3
   },
   "file_extension": ".py",
   "mimetype": "text/x-python",
   "name": "python",
   "nbconvert_exporter": "python",
   "pygments_lexer": "ipython3",
   "version": "3.10.9"
  }
 },
 "nbformat": 4,
 "nbformat_minor": 5
}
